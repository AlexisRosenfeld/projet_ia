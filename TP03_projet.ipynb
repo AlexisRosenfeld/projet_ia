{
 "cells": [
  {
   "cell_type": "markdown",
   "metadata": {},
   "source": [
    "- Ex 1 : nous devons résoudre le prolème en faisant la comparaison entre A* et un algorithem de notre choix. Nous avons pris bfs car c'est une algorithem simple mais  quand-même optimal."
   ]
  },
  {
   "cell_type": "code",
   "execution_count": 2,
   "metadata": {},
   "outputs": [
    {
     "name": "stdout",
     "output_type": "stream",
     "text": [
      "BFS Path: [(0, 0), (0, 1), (0, 3), (1, 3), (1, 4), (3, 4), (4, 4)]\n",
      "BFS Nodes Explored: 16\n",
      "BFS Execution Time: 4.410743713378906e-05\n",
      "\n",
      "A* Path: [(0, 0), (0, 1), (0, 3), (1, 3), (3, 3), (3, 4), (4, 4)]\n",
      "A* Nodes Explored: 8\n",
      "A* Execution Time: 4.291534423828125e-05\n"
     ]
    }
   ],
   "source": [
    "import heapq\n",
    "import time\n",
    "import math\n",
    "\n",
    "graph_ex = {\n",
    "    (0, 0): [((0, 1), 1), ((1, 0), 1)],\n",
    "    (0, 1): [((0, 0), 1), ((0, 3), 1), ((1, 1), 1)],\n",
    "    (0, 3): [((0, 1), 1), ((0, 4), math.inf), ((1, 3), 1)],\n",
    "    (0, 4): [((0, 3), math.inf), ((1, 4), 1)],\n",
    "\n",
    "    (1, 0): [((0, 0), 1), ((1, 1), 1), ((3, 0), 1)],\n",
    "    (1, 1): [((1, 0), 1), ((0, 1), 1), ((1, 3), 1), ((3, 1), 1)],\n",
    "    (1, 3): [((1, 1), 1), ((0, 3), 1), ((1, 4), 1), ((3, 3), 1)],\n",
    "    (1, 4): [((1, 3), 1), ((0, 4), 1), ((3, 4), 1)],\n",
    "\n",
    "    (3, 0): [((1, 0), 1), ((3, 1), 1), ((4, 0), 1)],\n",
    "    (3, 1): [((3, 0), 1), ((1, 1), 1), ((3, 3), 1), ((4, 1), 1)],\n",
    "    (3, 2): [((3, 3), math.inf)],\n",
    "    (3, 3): [((3, 1), 1), ((1, 3), 1), ((3, 4), 1), ((4, 3), 1), ((3, 2), math.inf)],\n",
    "    (3, 4): [((3, 3), 1), ((1, 4), 1), ((4, 4), 1)],\n",
    "\n",
    "    (4, 0): [((3, 0), 1), ((4, 1), 1)],\n",
    "    (4, 1): [((4, 0), 1), ((3, 1), 1), ((4, 3), 1)],\n",
    "    (4, 3): [((4, 1), 1), ((3, 3), 1), ((4, 4), 1)],\n",
    "    (4, 4): [((4, 3), 1), ((3, 4), 1)]\n",
    "}\n",
    "\n",
    "# Breadth-First Search (BFS)\n",
    "def bfs(graph, start, goal):\n",
    "    queue = [(start, [start])]\n",
    "    visited = set()\n",
    "    visited.add(start)\n",
    "    nodes_explored = 0\n",
    "\n",
    "    while queue:\n",
    "        current, path = queue.pop(0)\n",
    "        nodes_explored += 1\n",
    "\n",
    "        if current == goal:\n",
    "            return path, nodes_explored\n",
    "\n",
    "        for neighbor, cost in graph.get(current, []):\n",
    "            if neighbor not in visited and cost != math.inf:\n",
    "                visited.add(neighbor)\n",
    "                queue.append((neighbor, path + [neighbor]))\n",
    "\n",
    "    return None, nodes_explored  # No path found\n",
    "\n",
    "# nous prenons la distance de Manhattan comme heuristique\n",
    "def heuristic(node, goal):\n",
    "    return abs(goal[0] - node[0]) + abs(goal[1] - node[1])\n",
    "\n",
    "\n",
    "# A* Search\n",
    "def astar(graph, start, goal):\n",
    "    open_set = []\n",
    "    heapq.heappush(open_set, (0, start, [start]))\n",
    "    g_scores = {start: 0}\n",
    "    nodes_explored = 0\n",
    "\n",
    "    while open_set:\n",
    "        _, current, path = heapq.heappop(open_set)\n",
    "        nodes_explored += 1\n",
    "\n",
    "        if current == goal:\n",
    "            return path, nodes_explored\n",
    "\n",
    "        for neighbor, cost in graph.get(current, []):\n",
    "            if cost == math.inf:\n",
    "                continue\n",
    "\n",
    "            tentative_g_score = g_scores[current] + cost\n",
    "            if neighbor not in g_scores or tentative_g_score < g_scores[neighbor]:\n",
    "                g_scores[neighbor] = tentative_g_score\n",
    "                f_score = tentative_g_score + heuristic(neighbor, goal)\n",
    "                heapq.heappush(open_set, (f_score, neighbor, path + [neighbor]))\n",
    "\n",
    "    return None, nodes_explored  # No path found\n",
    "\n",
    "\n",
    "#nous comparosn \n",
    "start, goal = (0, 0), (4, 4)\n",
    "\n",
    "# BFS Execution\n",
    "start_time = time.time()\n",
    "bfs_path, bfs_nodes = bfs(graph_ex, start, goal)\n",
    "bfs_time = time.time() - start_time\n",
    "\n",
    "# A* Execution\n",
    "start_time = time.time()\n",
    "astar_path, astar_nodes = astar(graph_ex, start, goal)\n",
    "astar_time = time.time() - start_time\n",
    "\n",
    "# Results\n",
    "print(\"Chemin bfs:\", bfs_path)\n",
    "print(\"BFS Nodes Explored:\", bfs_nodes)\n",
    "print(\"BFS Execution Time:\", bfs_time)\n",
    "\n",
    "print(\"\\n\")\n",
    "\n",
    "print(\"\\nA* Path:\", astar_path)\n",
    "print(\"A* Nodes Explored:\", astar_nodes)\n",
    "print(\"A* Execution Time:\", astar_time)"
   ]
  },
  {
   "cell_type": "markdown",
   "metadata": {},
   "source": [
    "- Comme discuté en TP02, bfs est optiaml. Nous voyons que A* est plus efficace ( moins de noeuds visité et un peu plus rapide) Cela est du au fait que l'heuriste nous permet de supprimer la visite de certain noeuds "
   ]
  },
  {
   "cell_type": "markdown",
   "metadata": {},
   "source": [
    "- Ex 2 : Pour notre projet, nous devons appliquer les algorithme étudiés, les algorithme de recherche,  à un problème. "
   ]
  },
  {
   "cell_type": "markdown",
   "metadata": {},
   "source": [
    "Définission du problème : Vous êtes un étudiants, en cours d'informatique, et vous devez solliciter l'expertise d'un assistant. Vous avez  une pose de 1 quart d'heure à disposition et vous  devez trouver le chemin le plus cours pour avoir le plus de temps possible avec l'assistant. L'université est vu comme un emsemble d'intersection de couloir ( des noeuds) que connecter par des couloir (ponderé par leur disntance ). Le coût associer à chaque traverser de couloir correspond aux temps qu'il a fallu utiliser pour le traverser. Cepdant, il se trouver répartit, dans l'université, des machine à café qui, en consommant un café, nous rendent efficace comme si nous gagnions 10 minutes. Cependant, nous ne pouvons pas utuilsier chaque machine à café plus d'une fois sans faire d'overdose de café"
   ]
  },
  {
   "cell_type": "markdown",
   "metadata": {},
   "source": [
    "(nous pourions par la suite integré des variations au problème , par exemble avec des évéenment probalbilte apparaissant dans l'université , pour par exemple quand nous devrions continuer le projet avec des chaâines de markov)"
   ]
  },
  {
   "cell_type": "code",
   "execution_count": 2,
   "metadata": {},
   "outputs": [
    {
     "name": "stdout",
     "output_type": "stream",
     "text": [
      "A* Path: [(0, 0), (0, 1), (0, 2), (0, 3), (0, 4), (1, 4), (2, 4), (3, 4)]\n",
      "A* Nodes Explored: 12\n",
      "A* Execution Time: 0.00013113021850585938\n"
     ]
    }
   ],
   "source": [
    "import heapq\n",
    "import time\n",
    "import math\n",
    "\n",
    "# Graphe de l'université avec intersections, couloirs pondérés et machines à café\n",
    "university_graph = {\n",
    "    (0, 0): [((0, 1), 2), ((1, 0), 3)],\n",
    "    (0, 1): [((0, 0), 2), ((0, 2), 3), ((1, 1), 2)],\n",
    "    (0, 2): [((0, 1), 3), ((0, 3), 1), ((1, 2), 2)],\n",
    "    (0, 3): [((0, 2), 1), ((0, 4), 2), ((1, 3), 3)],  # Machine à café\n",
    "    (0, 4): [((0, 3), 2), ((1, 4), 3)],\n",
    "    (1, 0): [((0, 0), 3), ((1, 1), 2), ((2, 0), 3)],  \n",
    "    (1, 1): [((1, 0), 2), ((0, 1), 2), ((1, 2), 1), ((2, 1), 2)],\n",
    "    (1, 2): [((1, 1), 1), ((0, 2), 2), ((1, 3), 2), ((2, 2), 2)],\n",
    "    (1, 3): [((1, 2), 2), ((0, 3), 3), ((1, 4), 1), ((2, 3), 2)],\n",
    "    (1, 4): [((1, 3), 1), ((0, 4), 3), ((2, 4), 2)],  # Machine à café\n",
    "    (2, 0): [((1, 0), 3), ((2, 1), 1)],\n",
    "    (2, 1): [((2, 0), 1), ((1, 1), 2), ((2, 2), 2), ((3, 1), 2)],\n",
    "    (2, 2): [((2, 1), 2), ((1, 2), 2), ((2, 3), 1), ((3, 2), 3)],\n",
    "    (2, 3): [((2, 2), 1), ((1, 3), 2), ((2, 4), 3), ((3, 3), 2)],\n",
    "    (2, 4): [((2, 3), 3), ((1, 4), 2), ((3, 4), 2)],\n",
    "    (3, 1): [((2, 1), 2), ((3, 2), 2)],\n",
    "    (3, 2): [((3, 1), 2), ((2, 2), 3), ((3, 3), 1)],\n",
    "    (3, 3): [((3, 2), 1), ((2, 3), 2), ((3, 4), 2)],\n",
    "    (3, 4): [((3, 3), 2), ((2, 4), 2)]  # Bureau de l'assistant\n",
    "}\n",
    "\n",
    "# Machines à café\n",
    "coffee_machines = {(0, 3), (1, 4)}\n",
    "\n",
    "# Position de départ et d'arrivée\n",
    "start = (0, 0)\n",
    "goal = (3, 4)\n",
    "\n",
    "# Heuristique (Manhattan)\n",
    "def heuristic(node, goal):\n",
    "    return abs(goal[0] - node[0]) + abs(goal[1] - node[1])\n",
    "\n",
    "# A* modifié pour gérer les machines à café\n",
    "def astar(graph, start, goal, coffee_machines):\n",
    "    open_set = []\n",
    "    heapq.heappush(open_set, (0, start, frozenset(), [start]))  # (score, position, cafés visités, chemin)\n",
    "    g_scores = {(start, frozenset()): 0}  # Score de coût minimum atteint avec cet état\n",
    "    nodes_explored = 0\n",
    "\n",
    "    while open_set:\n",
    "        _, current, visited_coffees, path = heapq.heappop(open_set)\n",
    "        nodes_explored += 1\n",
    "\n",
    "        if current == goal:\n",
    "            return path, nodes_explored\n",
    "\n",
    "        for neighbor, cost in graph.get(current, []):\n",
    "            new_visited = visited_coffees\n",
    "            new_cost = g_scores[(current, visited_coffees)] + cost\n",
    "            \n",
    "            # Si c'est une machine à café non encore visitée, appliquer le bonus (-10)\n",
    "            if neighbor in coffee_machines and neighbor not in visited_coffees:\n",
    "                new_cost -= 10\n",
    "                new_visited = visited_coffees | {neighbor}  # Ajouter la machine visitée\n",
    "\n",
    "            state = (neighbor, new_visited)\n",
    "            if state not in g_scores or new_cost < g_scores[state]:\n",
    "                g_scores[state] = new_cost\n",
    "                f_score = new_cost + heuristic(neighbor, goal)\n",
    "                heapq.heappush(open_set, (f_score, neighbor, new_visited, path + [neighbor]))\n",
    "\n",
    "    return None, nodes_explored  # Aucun chemin trouvé\n",
    "\n",
    "# Exécution\n",
    "start_time = time.time()\n",
    "astar_path, astar_nodes = astar(university_graph, start, goal, coffee_machines)\n",
    "astar_time = time.time() - start_time\n",
    "\n",
    "# Résultats\n",
    "print(\"A* Path:\", astar_path)\n",
    "print(\"A* Nodes Explored:\", astar_nodes)\n",
    "print(\"A* Execution Time:\", astar_time)"
   ]
  },
  {
   "cell_type": "markdown",
   "metadata": {},
   "source": [
    "voilà notre petit code"
   ]
  },
  {
   "cell_type": "markdown",
   "metadata": {},
   "source": []
  }
 ],
 "metadata": {
  "kernelspec": {
   "display_name": "alexisrosenfeld-3CWC9XQS",
   "language": "python",
   "name": "python3"
  },
  "language_info": {
   "codemirror_mode": {
    "name": "ipython",
    "version": 3
   },
   "file_extension": ".py",
   "mimetype": "text/x-python",
   "name": "python",
   "nbconvert_exporter": "python",
   "pygments_lexer": "ipython3",
   "version": "3.12.6"
  }
 },
 "nbformat": 4,
 "nbformat_minor": 2
}
